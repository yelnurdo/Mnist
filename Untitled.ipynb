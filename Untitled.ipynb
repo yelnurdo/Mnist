{
 "cells": [
  {
   "cell_type": "code",
   "execution_count": 45,
   "id": "77882656-34f4-4a3e-aedd-729856519096",
   "metadata": {},
   "outputs": [],
   "source": [
    "import torch as t\n",
    "import torchvision.datasets as datasets\n",
    "import torchvision.transforms as transforms\n",
    "import torch.nn as nn\n",
    "import matplotlib.pyplot as plt"
   ]
  },
  {
   "cell_type": "code",
   "execution_count": 50,
   "id": "131124f1-fae4-4e78-82e8-c8987410fdfd",
   "metadata": {},
   "outputs": [],
   "source": [
    "transform = transforms.Compose([transforms.ToTensor(), transforms.Normalize((0.5,), (0.5,)),])\n",
    "\n",
    "mnist_trainset = datasets.MNIST(root='./data', train=True, download=True, transform=transform)\n",
    "train_loader = t.utils.data.DataLoader(mnist_trainset, batch_size=10, shuffle=True)\n",
    "\n",
    "mnist_testset = datasets.MNIST(root='./data', train=False, download=True, transform=transform)\n",
    "test_loader = t.utils.data.DataLoader(mnist_testset, batch_size=10, shuffle=True)"
   ]
  },
  {
   "cell_type": "code",
   "execution_count": 74,
   "id": "5fae1ffb-58be-4479-b642-f935a42d8620",
   "metadata": {},
   "outputs": [],
   "source": [
    "class Net(nn.Module):\n",
    "    def __init__(self):\n",
    "        super(Net, self).__init__()\n",
    "        self.linear1 = nn.Linear(28*28, 100)\n",
    "        self.linear2 = nn.Linear(100, 50)\n",
    "        self.final = nn.Linear(50, 100)\n",
    "        self.relu = nn.ReLU()\n",
    "    def forward(self, img):\n",
    "        x = img.view(-1, 28*28)\n",
    "        x = self.relu(self.linear1(x))\n",
    "        x = self.relu(self.linear2(x))\n",
    "        x = self.final(x)\n",
    "        return x\n",
    "net = Net()"
   ]
  },
  {
   "cell_type": "code",
   "execution_count": 84,
   "id": "2e493747-843c-45fb-9aee-6c7d8e98c46e",
   "metadata": {},
   "outputs": [],
   "source": [
    "correct = 0\n",
    "total = 0\n",
    "\n",
    "for epoch in range(epoch):\n",
    "    net.train()  # Переключаем сеть в режим обучения\n",
    "\n",
    "    for data in train_loader:\n",
    "        x, y = data\n",
    "        optimizer.zero_grad()  # Обнуляем градиенты\n",
    "        output = net(x.view(-1, 28*28))  # Пропускаем через сеть\n",
    "        loss = cross_el(output, y)  # Вычисляем потери\n",
    "        loss.backward()  # Считаем градиенты\n",
    "        optimizer.step()  # Обновляем веса"
   ]
  },
  {
   "cell_type": "code",
   "execution_count": 85,
   "id": "0f233ee7-2296-4548-b8cd-b5e6e3c580d1",
   "metadata": {},
   "outputs": [
    {
     "name": "stdout",
     "output_type": "stream",
     "text": [
      "accuracy: 0.968\n"
     ]
    }
   ],
   "source": [
    "with t.no_grad():\n",
    "    net.eval()  # Переключаем сеть в режим тестирования\n",
    "    for data in test_loader:\n",
    "        x, y = data\n",
    "        output = net(x.view(-1, 28*28))  # Пропускаем через сеть\n",
    "        for idx, i in enumerate(output):\n",
    "            if t.argmax(i) == y[idx]:  # Сравниваем предсказания с метками\n",
    "                correct += 1\n",
    "            total += 1\n",
    "print(f'accuracy: {round(correct/total, 3)}')"
   ]
  },
  {
   "cell_type": "code",
   "execution_count": 88,
   "id": "df43c2b2-f4f0-4aef-b336-4a9e7f2e5b64",
   "metadata": {},
   "outputs": [
    {
     "data": {
      "image/png": "[encoded data removed]",
      "text/plain": [
       "<Figure size 640x480 with 1 Axes>"
      ]
     },
     "metadata": {},
     "output_type": "display_data"
    },
    {
     "name": "stdout",
     "output_type": "stream",
     "text": [
      "tensor(6)\n"
     ]
    }
   ],
   "source": [
    "plt.imshow(x[6].view(28, 28))  # Показываем изображение\n",
    "plt.show()\n",
    "print(t.argmax(net(x[4].view(-1, 28*28))[0]))"
   ]
  }
 ],
 "metadata": {
  "kernelspec": {
   "display_name": "Python 3 (ipykernel)",
   "language": "python",
   "name": "python3"
  },
  "language_info": {
   "codemirror_mode": {
    "name": "ipython",
    "version": 3
   },
   "file_extension": ".py",
   "mimetype": "text/x-python",
   "name": "python",
   "nbconvert_exporter": "python",
   "pygments_lexer": "ipython3",
   "version": "3.12.7"
  }
 },
 "nbformat": 4,
 "nbformat_minor": 5
}
